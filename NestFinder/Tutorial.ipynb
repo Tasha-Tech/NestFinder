{
 "cells": [
  {
   "cell_type": "code",
   "execution_count": 2,
   "id": "c3daae5a",
   "metadata": {},
   "outputs": [
    {
     "data": {
      "text/plain": [
       "[(0, '31 Roosevelt Rd', 1189000, 11021.0, 1935.0, 0.5751231650958885, 0.3873169568704244, 2.098979727255684, 0.5419352537118529, 4.1842414727872965),\n",
       " (1, '284 Melrose Ave', 1899900, 4638.0, 1910.0, 0.4375193192225121, 2.6341967450654837, 2.2131871354834165, 2.738813882874864, 2.838002631602663),\n",
       " (2, '401 Dedham St #B', 1579000, 1240857.0, 1980.0, 0.5497037486841614, 0.504051411648498, 1.5642855939609124, 0.9834539775493534, 4.655446759363013),\n",
       " (3, '21 Beaconwood Rd #21', 1450000, None, 2022.0, 0.5700811402079833, 2.2747036943431023, 1.9257393638140488, 1.3892647036853083, 2.495496858792915),\n",
       " (4, '61 Walker St #1', 1299000, None, 2021.0, 0.7971169504253137, 0.5201699480128299, 0.6880393304361606, 0.7555467672238543, 0.478961846691995)]"
      ]
     },
     "execution_count": 2,
     "metadata": {},
     "output_type": "execute_result"
    }
   ],
   "source": [
    "import finder\n",
    "finder.submit(\"SELECT * FROM on_sale LIMIT 5\")"
   ]
  },
  {
   "cell_type": "code",
   "execution_count": null,
   "id": "4f05ab63",
   "metadata": {},
   "outputs": [],
   "source": []
  }
 ],
 "metadata": {
  "kernelspec": {
   "display_name": "Python 3 (ipykernel)",
   "language": "python",
   "name": "python3"
  },
  "language_info": {
   "codemirror_mode": {
    "name": "ipython",
    "version": 3
   },
   "file_extension": ".py",
   "mimetype": "text/x-python",
   "name": "python",
   "nbconvert_exporter": "python",
   "pygments_lexer": "ipython3",
   "version": "3.8.12"
  }
 },
 "nbformat": 4,
 "nbformat_minor": 5
}
