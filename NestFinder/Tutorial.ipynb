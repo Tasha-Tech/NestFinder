{
 "cells": [
  {
   "cell_type": "markdown",
   "id": "3f1c8dfd",
   "metadata": {},
   "source": [
    "Hi!\n",
    "\n",
    "I am an NTIA student and this is my Python and Data Analytics project.\n",
    "\n",
    "In this project I will demonstrate how to combine data from Real Estate Websites\n",
    "with data available on Public Domain such as GIS data from City of Newton MA\n",
    "\n",
    "This project can be cloned form:\n",
    "https://github.com/Tasha-Tech/NestFinder.git\n",
    "\n",
    "This project has several modules:\n",
    "\n",
    "**adress**   # Property information from Newton City GIS data \n",
    "\n",
    "**schools**  # School information from Newton City GIS data\n",
    "\n",
    "**on_sale**  # Houses on Sale information from www.movoto.com\n",
    "\n",
    "**finder**   # Finder module \"combines\" information from modules above and populates SQL database"
   ]
  },
  {
   "cell_type": "markdown",
   "id": "99410827",
   "metadata": {},
   "source": [
    "Let us start with schools module\n",
    "\n",
    "It has **load** function witch loads school information from geojson file\n",
    "\n",
    "Note: jeojson file can be downloaded by calling **web_load** function\n",
    "\n",
    "**load** function returns geopandas.geodataframe.GeoDataFrame"
   ]
  },
  {
   "cell_type": "code",
   "execution_count": 31,
   "id": "81ded573",
   "metadata": {},
   "outputs": [
    {
     "name": "stdout",
     "output_type": "stream",
     "text": [
      "                   NAME         ADDRESS        TYPE  \\\n",
      "0  Lincoln-Eliot School    191 Pearl St  Elementary   \n",
      "1     Day Middle School     21 Minot Pl      Middle   \n",
      "2      Fessenden School  246 Waltham St     Private   \n",
      "3       Franklin School    125 Derby St  Elementary   \n",
      "\n",
      "                     geometry  \n",
      "0  POINT (-71.19402 42.35969)  \n",
      "1  POINT (-71.21315 42.35813)  \n",
      "2  POINT (-71.21974 42.35790)  \n",
      "3  POINT (-71.22865 42.35834)  \n"
     ]
    }
   ],
   "source": [
    "import schools\n",
    "s = schools.load('downloads')\n",
    "print(s.head(4))"
   ]
  },
  {
   "cell_type": "markdown",
   "id": "dcd8d2e1",
   "metadata": {},
   "source": [
    "**on_sale** module has very similar API, \n",
    "\n",
    "but it has **from_disk** function and uses the data from www.movoto.com website\n",
    "\n",
    "**from_disk** function returns geopandas.geodataframe.GeoDataFrame"
   ]
  },
  {
   "cell_type": "code",
   "execution_count": 32,
   "id": "b18ec70d",
   "metadata": {},
   "outputs": [
    {
     "name": "stdout",
     "output_type": "stream",
     "text": [
      "                address  listPrice  yearBuilt\n",
      "0       31 Roosevelt Rd    1189000     1935.0\n",
      "1       284 Melrose Ave    1899900     1910.0\n",
      "2      401 Dedham St #B    1579000     1980.0\n",
      "3  21 Beaconwood Rd #21    1450000     2022.0\n"
     ]
    }
   ],
   "source": [
    "import on_sale\n",
    "houses = on_sale.from_disk('downloads')\n",
    "print(houses[['address', 'listPrice', 'yearBuilt']].head(4))"
   ]
  },
  {
   "cell_type": "markdown",
   "id": "f68054d8",
   "metadata": {},
   "source": [
    "Please note that geopandas.geodataframe.GeoDataFrame has location information embedded in it"
   ]
  },
  {
   "cell_type": "code",
   "execution_count": 33,
   "id": "208bafad",
   "metadata": {
    "scrolled": true
   },
   "outputs": [
    {
     "data": {
      "text/html": [
       "<div>\n",
       "<style scoped>\n",
       "    .dataframe tbody tr th:only-of-type {\n",
       "        vertical-align: middle;\n",
       "    }\n",
       "\n",
       "    .dataframe tbody tr th {\n",
       "        vertical-align: top;\n",
       "    }\n",
       "\n",
       "    .dataframe thead th {\n",
       "        text-align: right;\n",
       "    }\n",
       "</style>\n",
       "<table border=\"1\" class=\"dataframe\">\n",
       "  <thead>\n",
       "    <tr style=\"text-align: right;\">\n",
       "      <th></th>\n",
       "      <th>address</th>\n",
       "      <th>geometry</th>\n",
       "    </tr>\n",
       "  </thead>\n",
       "  <tbody>\n",
       "    <tr>\n",
       "      <th>0</th>\n",
       "      <td>31 Roosevelt Rd</td>\n",
       "      <td>POINT (-71.19421 42.31371)</td>\n",
       "    </tr>\n",
       "    <tr>\n",
       "      <th>1</th>\n",
       "      <td>284 Melrose Ave</td>\n",
       "      <td>POINT (-71.24809 42.34695)</td>\n",
       "    </tr>\n",
       "    <tr>\n",
       "      <th>2</th>\n",
       "      <td>401 Dedham St #B</td>\n",
       "      <td>POINT (-71.19830 42.30792)</td>\n",
       "    </tr>\n",
       "    <tr>\n",
       "      <th>3</th>\n",
       "      <td>21 Beaconwood Rd #21</td>\n",
       "      <td>POINT (-71.20973 42.33034)</td>\n",
       "    </tr>\n",
       "  </tbody>\n",
       "</table>\n",
       "</div>"
      ],
      "text/plain": [
       "                address                    geometry\n",
       "0       31 Roosevelt Rd  POINT (-71.19421 42.31371)\n",
       "1       284 Melrose Ave  POINT (-71.24809 42.34695)\n",
       "2      401 Dedham St #B  POINT (-71.19830 42.30792)\n",
       "3  21 Beaconwood Rd #21  POINT (-71.20973 42.33034)"
      ]
     },
     "execution_count": 33,
     "metadata": {},
     "output_type": "execute_result"
    }
   ],
   "source": [
    "houses.geometry.head(4)\n",
    "houses[['address', 'geometry']].head(4)"
   ]
  },
  {
   "cell_type": "markdown",
   "id": "27756e99",
   "metadata": {},
   "source": [
    "The **finder** module uses this information to calculate **minimal** distance between property\n",
    "and schools of particular **TYPE**"
   ]
  },
  {
   "cell_type": "code",
   "execution_count": 34,
   "id": "6e20b2c8",
   "metadata": {
    "scrolled": true
   },
   "outputs": [
    {
     "data": {
      "text/plain": [
       "array(['Elementary', 'Middle', 'Private', 'High', 'Special Ed'],\n",
       "      dtype=object)"
      ]
     },
     "execution_count": 34,
     "metadata": {},
     "output_type": "execute_result"
    }
   ],
   "source": [
    "s['TYPE'].unique()"
   ]
  },
  {
   "cell_type": "markdown",
   "id": "21f8fdcd",
   "metadata": {},
   "source": [
    "Once distance information is calculated **finder** module creates SQL in-memory database\n",
    "populated with property information and distances to all school types.\n",
    "This will allow to run reasonably complex quiries on this dataset."
   ]
  },
  {
   "cell_type": "markdown",
   "id": "dc621ba3",
   "metadata": {},
   "source": [
    "Column names can be obtained by:"
   ]
  },
  {
   "cell_type": "code",
   "execution_count": 35,
   "id": "f2eac452",
   "metadata": {},
   "outputs": [
    {
     "name": "stdout",
     "output_type": "stream",
     "text": [
      "['address', 'listPrice', 'yearBuilt', 'lotSize', 'sqftTotal', 'bath', 'bed', 'propertyType', 'zipCode', 'Elementary_school', 'Middle_school', 'Private_school', 'High_school', 'Special Ed_school']\n"
     ]
    }
   ],
   "source": [
    "import finder\n",
    "columns = finder.columns()\n",
    "print(columns)"
   ]
  },
  {
   "cell_type": "markdown",
   "id": "0eb8a03c",
   "metadata": {},
   "source": [
    "Below is a few examples of SQL queries:"
   ]
  },
  {
   "cell_type": "code",
   "execution_count": 36,
   "id": "c3daae5a",
   "metadata": {},
   "outputs": [
    {
     "data": {
      "text/plain": [
       "[('31 Roosevelt Rd', 1189000, 0.5751231650958885),\n",
       " ('284 Melrose Ave', 1899900, 0.4375193192225121),\n",
       " ('401 Dedham St #B', 1579000, 0.5497037486841614),\n",
       " ('21 Beaconwood Rd #21', 1450000, 0.5700811402079833),\n",
       " ('61 Walker St #1', 1299000, 0.7971169504253137)]"
      ]
     },
     "execution_count": 36,
     "metadata": {},
     "output_type": "execute_result"
    }
   ],
   "source": [
    "finder.submit(\"SELECT address, listPrice, Elementary_school FROM on_sale LIMIT 5\")"
   ]
  },
  {
   "cell_type": "markdown",
   "id": "3f870e89",
   "metadata": {},
   "source": [
    "Select all houses with distance from Elementary sclool is less then 0.3 miles. (Yes, distance converted to miles :) )"
   ]
  },
  {
   "cell_type": "code",
   "execution_count": 37,
   "id": "c2055713",
   "metadata": {},
   "outputs": [
    {
     "data": {
      "text/plain": [
       "[('2 Rowe St', 1050000, 0.2349404681438777),\n",
       " ('208 Cherry', 859000, 0.14849737276881836)]"
      ]
     },
     "execution_count": 37,
     "metadata": {},
     "output_type": "execute_result"
    }
   ],
   "source": [
    "finder.submit(\"SELECT address, listPrice, Elementary_school FROM on_sale WHERE Elementary_school < 0.3\")"
   ]
  },
  {
   "cell_type": "markdown",
   "id": "fc2ce75f",
   "metadata": {},
   "source": [
    "Find 3 most expensive houses on sale:"
   ]
  },
  {
   "cell_type": "code",
   "execution_count": 38,
   "id": "cc13101a",
   "metadata": {
    "scrolled": true
   },
   "outputs": [
    {
     "data": {
      "text/plain": [
       "[('301 Waverley Ave', 9.0, 9500000),\n",
       " ('45 Claremont St', 6.0, 6000000),\n",
       " ('163 Country Club Rd #163', 7.0, 4498000)]"
      ]
     },
     "execution_count": 38,
     "metadata": {},
     "output_type": "execute_result"
    }
   ],
   "source": [
    "finder.submit(\"SELECT address, bed, listPrice FROM on_sale ORDER BY listPrice DESC LIMIT 3\")"
   ]
  },
  {
   "cell_type": "markdown",
   "id": "48daee8b",
   "metadata": {},
   "source": [
    "9 Bedrooms for 9.5M dollars it is kind of impressive!"
   ]
  }
 ],
 "metadata": {
  "kernelspec": {
   "display_name": "Python 3 (ipykernel)",
   "language": "python",
   "name": "python3"
  },
  "language_info": {
   "codemirror_mode": {
    "name": "ipython",
    "version": 3
   },
   "file_extension": ".py",
   "mimetype": "text/x-python",
   "name": "python",
   "nbconvert_exporter": "python",
   "pygments_lexer": "ipython3",
   "version": "3.8.12"
  }
 },
 "nbformat": 4,
 "nbformat_minor": 5
}
